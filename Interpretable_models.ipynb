{
 "cells": [
  {
   "cell_type": "code",
   "execution_count": 1,
   "metadata": {},
   "outputs": [],
   "source": [
    "# imports\n",
    "from Utils import DataLoader\n",
    "from interpret.glassbox import (LogisticRegression,\n",
    "                                ClassificationTree,\n",
    "                                ExplainableBoostingClassifier)\n",
    "from interpret import show\n",
    "from sklearn.metrics import f1_score, accuracy_score"
   ]
  },
  {
   "cell_type": "code",
   "execution_count": 2,
   "metadata": {},
   "outputs": [],
   "source": [
    "data_loader = DataLoader()\n",
    "data_loader.load_dataset()\n",
    "data_loader.preprocess_data()"
   ]
  },
  {
   "cell_type": "code",
   "execution_count": 3,
   "metadata": {},
   "outputs": [
    {
     "name": "stdout",
     "output_type": "stream",
     "text": [
      "(4088, 21)\n",
      "(1022, 21)\n"
     ]
    }
   ],
   "source": [
    "#split the data for evaluation\n",
    "X_train,X_test,y_train,y_test = data_loader.get_data_split()\n",
    "print(X_train.shape)\n",
    "print(X_test.shape)\n"
   ]
  },
  {
   "cell_type": "code",
   "execution_count": 4,
   "metadata": {},
   "outputs": [
    {
     "name": "stdout",
     "output_type": "stream",
     "text": [
      "(7778, 21)\n",
      "(7778,)\n"
     ]
    }
   ],
   "source": [
    "#oversample the data\n",
    "X_train, y_train = data_loader.oversample(X_train,y_train)\n",
    "print(X_train.shape)\n",
    "print(y_train.shape)"
   ]
  },
  {
   "cell_type": "code",
   "execution_count": 5,
   "metadata": {},
   "outputs": [
    {
     "name": "stdout",
     "output_type": "stream",
     "text": [
      "training completed\n"
     ]
    }
   ],
   "source": [
    "# training the dataset\n",
    "lr = LogisticRegression(random_state=2024, feature_names=X_train.columns, penalty = \"l1\", solver ='liblinear')\n",
    "lr.fit(X_train,y_train)\n",
    "print('training completed')\n"
   ]
  },
  {
   "cell_type": "code",
   "execution_count": 6,
   "metadata": {},
   "outputs": [
    {
     "name": "stdout",
     "output_type": "stream",
     "text": [
      "F1_score   0.5193734309253563\n",
      "Accurancy 0.7397260273972602\n"
     ]
    }
   ],
   "source": [
    "#testing the dataset and checking accuracy\n",
    "y_pred = lr.predict(X_test)\n",
    "print(f\"F1_score   {f1_score(y_test,y_pred,average='macro')}\")\n",
    "print(f\"Accurancy {accuracy_score(y_test, y_pred)}\")"
   ]
  },
  {
   "cell_type": "code",
   "execution_count": 7,
   "metadata": {},
   "outputs": [
    {
     "data": {
      "text/html": [
       "<!-- http://127.0.0.1:7001/1598864214992/ -->\n",
       "<iframe src=\"http://127.0.0.1:7001/1598864214992/\" width=100% height=800 frameBorder=\"0\"></iframe>"
      ]
     },
     "metadata": {},
     "output_type": "display_data"
    }
   ],
   "source": [
    "#explain local prediction\n",
    "lr_local = lr.explain_local(X_test[:10],y_test[:10],name='logistic Regression')\n",
    "show(lr_local)"
   ]
  },
  {
   "cell_type": "code",
   "execution_count": 8,
   "metadata": {},
   "outputs": [
    {
     "data": {
      "text/html": [
       "<!-- http://127.0.0.1:7001/1598925795152/ -->\n",
       "<iframe src=\"http://127.0.0.1:7001/1598925795152/\" width=100% height=800 frameBorder=\"0\"></iframe>"
      ]
     },
     "metadata": {},
     "output_type": "display_data"
    }
   ],
   "source": [
    "lr_global = lr.explain_global(name='Logistic Regression')\n",
    "show(lr_global)"
   ]
  },
  {
   "cell_type": "code",
   "execution_count": 9,
   "metadata": {},
   "outputs": [
    {
     "name": "stdout",
     "output_type": "stream",
     "text": [
      "training succeeded\n",
      "F1 score 0.5193734309253563\n",
      "Accuracy 0.7397260273972602\n"
     ]
    }
   ],
   "source": [
    "#Training model with ebm\n",
    "ebm = ExplainableBoostingClassifier(random_state=2024)\n",
    "ebm.fit(X_train,y_train)\n",
    "print('training succeeded')\n",
    "y_pred_ebm = ebm.predict(X_test)\n",
    "print(f\"F1 score {f1_score(y_test, y_pred, average='macro')}\")\n",
    "print(f\"Accuracy {accuracy_score(y_test, y_pred)}\")"
   ]
  },
  {
   "cell_type": "code",
   "execution_count": 10,
   "metadata": {},
   "outputs": [
    {
     "data": {
      "text/html": [
       "<!-- http://127.0.0.1:7001/1598962588624/ -->\n",
       "<iframe src=\"http://127.0.0.1:7001/1598962588624/\" width=100% height=800 frameBorder=\"0\"></iframe>"
      ]
     },
     "metadata": {},
     "output_type": "display_data"
    }
   ],
   "source": [
    "ebm_local = ebm.explain_local(X_test[:10],y_test[:10],name='Explaination boosting classifier')\n",
    "show(ebm_local)"
   ]
  },
  {
   "cell_type": "code",
   "execution_count": 11,
   "metadata": {},
   "outputs": [
    {
     "data": {
      "text/html": [
       "<!-- http://127.0.0.1:7001/1598962145360/ -->\n",
       "<iframe src=\"http://127.0.0.1:7001/1598962145360/\" width=100% height=800 frameBorder=\"0\"></iframe>"
      ]
     },
     "metadata": {},
     "output_type": "display_data"
    }
   ],
   "source": [
    "ebm_global = ebm.explain_global(name='explaianable boosting machine')\n",
    "show(ebm_global)"
   ]
  },
  {
   "cell_type": "code",
   "execution_count": 12,
   "metadata": {},
   "outputs": [
    {
     "name": "stdout",
     "output_type": "stream",
     "text": [
      "training completed\n",
      "F1 score 0.5193734309253563\n",
      "Accuracy 0.7397260273972602\n"
     ]
    }
   ],
   "source": [
    "tree = ClassificationTree()\n",
    "tree.fit(X_train, y_train)\n",
    "print('training completed')\n",
    "tree_pred = tree.predict(X_test)\n",
    "print(f\"F1 score {f1_score(y_test, y_pred, average='macro')}\")\n",
    "print(f\"Accuracy {accuracy_score(y_test, y_pred)}\")"
   ]
  },
  {
   "cell_type": "code",
   "execution_count": 13,
   "metadata": {},
   "outputs": [
    {
     "data": {
      "text/html": [
       "<!-- http://127.0.0.1:7001/1598962594512/ -->\n",
       "<iframe src=\"http://127.0.0.1:7001/1598962594512/\" width=100% height=800 frameBorder=\"0\"></iframe>"
      ]
     },
     "metadata": {},
     "output_type": "display_data"
    }
   ],
   "source": [
    "tree_exp_local = tree.explain_local(X_test[:10],y_test[:10],name='Decision tree classifier')\n",
    "show(tree_exp_local)"
   ]
  },
  {
   "cell_type": "code",
   "execution_count": 14,
   "metadata": {},
   "outputs": [
    {
     "data": {
      "text/html": [
       "<!-- http://127.0.0.1:7001/1598927036688/ -->\n",
       "<iframe src=\"http://127.0.0.1:7001/1598927036688/\" width=100% height=800 frameBorder=\"0\"></iframe>"
      ]
     },
     "metadata": {},
     "output_type": "display_data"
    }
   ],
   "source": [
    "tree_exp_global = tree.explain_global(name = 'Decision tree classification')\n",
    "show(tree_exp_global)"
   ]
  }
 ],
 "metadata": {
  "kernelspec": {
   "display_name": "Python 3",
   "language": "python",
   "name": "python3"
  },
  "language_info": {
   "codemirror_mode": {
    "name": "ipython",
    "version": 3
   },
   "file_extension": ".py",
   "mimetype": "text/x-python",
   "name": "python",
   "nbconvert_exporter": "python",
   "pygments_lexer": "ipython3",
   "version": "3.11.1"
  }
 },
 "nbformat": 4,
 "nbformat_minor": 2
}
